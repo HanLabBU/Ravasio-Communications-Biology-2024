{
 "cells": [
  {
   "cell_type": "code",
   "execution_count": 2,
   "metadata": {
    "ExecuteTime": {
     "end_time": "2021-11-19T00:44:46.846468Z",
     "start_time": "2021-11-19T00:44:44.105565Z"
    }
   },
   "outputs": [
    {
     "name": "stderr",
     "output_type": "stream",
     "text": [
      "2022-01-24 15:43:37.370625: I tensorflow/stream_executor/platform/default/dso_loader.cc:49] Successfully opened dynamic library libcudart.so.10.1\n"
     ]
    },
    {
     "ename": "ModuleNotFoundError",
     "evalue": "No module named 'matplotlib'",
     "output_type": "error",
     "traceback": [
      "\u001b[0;31m---------------------------------------------------------------------------\u001b[0m",
      "\u001b[0;31mModuleNotFoundError\u001b[0m                       Traceback (most recent call last)",
      "\u001b[0;32m/tmp/ipykernel_30827/678390347.py\u001b[0m in \u001b[0;36m<module>\u001b[0;34m\u001b[0m\n\u001b[1;32m     10\u001b[0m \u001b[0;32mfrom\u001b[0m \u001b[0mscipy\u001b[0m \u001b[0;32mimport\u001b[0m \u001b[0mndimage\u001b[0m\u001b[0;34m\u001b[0m\u001b[0;34m\u001b[0m\u001b[0m\n\u001b[1;32m     11\u001b[0m \u001b[0;32mimport\u001b[0m \u001b[0mnumpy\u001b[0m \u001b[0;32mas\u001b[0m \u001b[0mnp\u001b[0m\u001b[0;34m\u001b[0m\u001b[0;34m\u001b[0m\u001b[0m\n\u001b[0;32m---> 12\u001b[0;31m \u001b[0;32mimport\u001b[0m \u001b[0mmatplotlib\u001b[0m\u001b[0;34m.\u001b[0m\u001b[0mpyplot\u001b[0m \u001b[0;32mas\u001b[0m \u001b[0mplt\u001b[0m\u001b[0;34m\u001b[0m\u001b[0;34m\u001b[0m\u001b[0m\n\u001b[0m\u001b[1;32m     13\u001b[0m \u001b[0;31m#import tensorflow as tf\u001b[0m\u001b[0;34m\u001b[0m\u001b[0;34m\u001b[0m\u001b[0;34m\u001b[0m\u001b[0m\n\u001b[1;32m     14\u001b[0m \u001b[0;32mimport\u001b[0m \u001b[0mtime\u001b[0m\u001b[0;34m\u001b[0m\u001b[0;34m\u001b[0m\u001b[0m\n",
      "\u001b[0;31mModuleNotFoundError\u001b[0m: No module named 'matplotlib'"
     ]
    }
   ],
   "source": [
    "#%matplotlib inline -Cara added the \"#\" at the beginning 01/24/22\n",
    "#matplotlib notebook\n",
    "#%pdb\n",
    "\n",
    "import tensorflow as tf\n",
    "import sys\n",
    "import scipy.io as sio\n",
    "import scipy.stats as stats\n",
    "import scipy.signal as signal\n",
    "from scipy import ndimage\n",
    "import numpy as np\n",
    "import matplotlib.pyplot as plt\n",
    "#import tensorflow as tf\n",
    "import time\n",
    "import math\n",
    "import ipywidgets\n",
    "import PIL\n",
    "#import itertools\n",
    "import os\n",
    "from numpy.lib.format import open_memmap\n",
    "from tqdm import tqdm\n",
    "from tqdm import tqdm_notebook as tqdm_notebook\n",
    "#from numba import jit\n",
    "\n",
    "#import cv2\n",
    "\n",
    "#from ipywidgets import FloatProgress\n",
    "from IPython.display import display"
   ]
  },
  {
   "cell_type": "code",
   "execution_count": null,
   "metadata": {
    "ExecuteTime": {
     "end_time": "2021-11-19T00:44:46.933236Z",
     "start_time": "2021-11-19T00:44:46.848464Z"
    }
   },
   "outputs": [],
   "source": [
    "from keras.models import Sequential, load_model\n",
    "from keras.layers import Input\n",
    "from keras.layers import Dense, Dropout, Activation, Flatten, Concatenate\n",
    "from keras.layers import Convolution2D, MaxPooling2D\n",
    "from keras.layers.core import Lambda\n",
    "import keras.optimizers as optimizers\n",
    "from keras import regularizers\n",
    "from keras import backend as K\n",
    "from keras.models import Model"
   ]
  },
  {
   "cell_type": "code",
   "execution_count": null,
   "metadata": {
    "ExecuteTime": {
     "end_time": "2021-11-19T00:44:47.493976Z",
     "start_time": "2021-11-19T00:44:46.934235Z"
    }
   },
   "outputs": [],
   "source": [
    "#from build_dataset import roi_unet_test as dataset\n",
    "from build_dataset import test_data_generator\n",
    "from build_model import load_model_weights, load_saved_model"
   ]
  },
  {
   "cell_type": "code",
   "execution_count": null,
   "metadata": {
    "ExecuteTime": {
     "end_time": "2021-11-19T00:44:48.908046Z",
     "start_time": "2021-11-19T00:44:47.495972Z"
    }
   },
   "outputs": [],
   "source": [
    "tf.compat.v1 # Cara added this line to swicth from tf v2 to tf v1 01/24/22\n",
    "os.environ['CUDA_VISIBLE_DEVICES'] = '2'\n",
    "config = tf.ConfigProto()\n",
    "config.gpu_options.allow_growth = True\n",
    "#config.log_device_placement = True\n",
    "sess = tf.Session(config=config)\n",
    "K.set_session(sess)"
   ]
  },
  {
   "cell_type": "code",
   "execution_count": null,
   "metadata": {
    "ExecuteTime": {
     "start_time": "2021-11-19T00:44:44.109Z"
    }
   },
   "outputs": [],
   "source": [
    "weights_filename = 'ROI_detection_unet_20190416-151650_best_weight.weight'\n",
    "model = load_saved_model(weights_filename)\n"
   ]
  },
  {
   "cell_type": "markdown",
   "metadata": {},
   "source": [
    "model_folder = 'ROI_detection_unet_20170808-185834'\n",
    "model_filename = 'ROI_detection_unet_20170808-185834_20170809_131239_99.keras'\n",
    "model = load_model('X:\\Hua-an\\Data\\Deep_Learning_Model\\%s\\%s.keras' % (model_folder,model_folder))"
   ]
  },
  {
   "cell_type": "code",
   "execution_count": null,
   "metadata": {
    "ExecuteTime": {
     "start_time": "2021-11-19T00:44:44.110Z"
    },
    "scrolled": true
   },
   "outputs": [],
   "source": [
    "print(model.summary())"
   ]
  },
  {
   "cell_type": "code",
   "execution_count": null,
   "metadata": {
    "ExecuteTime": {
     "start_time": "2021-11-19T00:44:44.112Z"
    }
   },
   "outputs": [],
   "source": [
    "#test_dataset_folder = [\"C:\\\\Users\\\\Hua-an\\\\Documents\\\\CloudStation\\\\Lab_Project\\\\Ultrasound\\\\Analysis\\\\max-min_image\\\\control_hippocampus\\\\New folder\"]"
   ]
  },
  {
   "cell_type": "code",
   "execution_count": null,
   "metadata": {
    "ExecuteTime": {
     "start_time": "2021-11-19T00:44:44.114Z"
    }
   },
   "outputs": [],
   "source": [
    "test_dataset_folder = [\"/media/Elements/DBS/Hippocampus/GCaMP/kHz/C00014138\"]\n",
    "#[\n",
    "#    \"Y:\\\\Rebecca_Mount\\\\Autism\\\\612265\\\\Day_2\\\\Ball\\\\motion_corrected\",\n",
    "#    \"Y:\\\\Rebecca_Mount\\\\Autism\\\\612265\\\\Day_4\\\\Ball\\\\motion_corrected\", \n",
    "#    \"Y:\\\\Rebecca_Mount\\\\Autism\\\\612265\\\\Day_6\\\\Ball\\\\motion_corrected\",\n",
    "#    \"Y:\\\\Rebecca_Mount\\\\Autism\\\\612266\\\\Day_2\\\\Ball\\\\motion_corrected\",\n",
    "#    \"Y:\\\\Rebecca_Mount\\\\Autism\\\\612266\\\\Day_4\\\\Ball\\\\motion_corrected\", \n",
    "#    \"Y:\\\\Rebecca_Mount\\\\Autism\\\\612266\\\\Day_6\\\\Ball\\\\motion_corrected\",\n",
    "#    \"Y:\\\\Rebecca_Mount\\\\Autism\\\\612270\\\\Day_2\\\\Ball\\\\motion_corrected\",\n",
    "#    \"Y:\\\\Rebecca_Mount\\\\Autism\\\\612270\\\\Day_4\\\\Ball\\\\motion_corrected\", \n",
    "#    \"Y:\\\\Rebecca_Mount\\\\Autism\\\\612270\\\\Day_6\\\\Ball\\\\motion_corrected\",\n",
    "#    \"Y:\\\\Rebecca_Mount\\\\Autism\\\\612668\\\\Day_2\\\\Ball\\\\motion_corrected\",\n",
    "#    \"Y:\\\\Rebecca_Mount\\\\Autism\\\\612668\\\\Day_4\\\\Ball\\\\motion_corrected\", \n",
    "#    \"Y:\\\\Rebecca_Mount\\\\Autism\\\\612668\\\\Day_6\\\\Ball\\\\motion_corrected\", \n",
    "#]\n"
   ]
  },
  {
   "cell_type": "code",
   "execution_count": null,
   "metadata": {
    "ExecuteTime": {
     "start_time": "2021-11-19T00:44:44.117Z"
    }
   },
   "outputs": [],
   "source": [
    "params = {'model': model,\n",
    "          'stride_ratio': 0.5,\n",
    "          'flip': False,\n",
    "          'rotate': False,\n",
    "          'std_normalization': True,\n",
    "         }\n",
    "test_generator = test_data_generator(test_dataset_folder, **params)\n",
    "\n"
   ]
  },
  {
   "cell_type": "code",
   "execution_count": null,
   "metadata": {
    "ExecuteTime": {
     "start_time": "2021-11-19T00:44:44.118Z"
    }
   },
   "outputs": [],
   "source": [
    "test_generator.predict()"
   ]
  },
  {
   "cell_type": "code",
   "execution_count": null,
   "metadata": {
    "ExecuteTime": {
     "start_time": "2021-11-19T00:44:44.123Z"
    }
   },
   "outputs": [],
   "source": [
    "test_generator.create_roi(roi_threshold=0.5, roi_size_limit=[20, 500], erosion_iter=None, watershed=True)"
   ]
  },
  {
   "cell_type": "code",
   "execution_count": null,
   "metadata": {
    "ExecuteTime": {
     "start_time": "2021-11-19T00:44:44.125Z"
    }
   },
   "outputs": [],
   "source": [
    "test_generator.save_predict_roi()"
   ]
  },
  {
   "cell_type": "code",
   "execution_count": null,
   "metadata": {
    "ExecuteTime": {
     "start_time": "2021-11-19T00:44:44.127Z"
    }
   },
   "outputs": [],
   "source": [
    "test_generator.show_predict_roi(file_idx=0,area_idx=None, colors='red',linewidths=0.5)"
   ]
  },
  {
   "cell_type": "code",
   "execution_count": null,
   "metadata": {
    "ExecuteTime": {
     "start_time": "2021-11-19T00:44:44.128Z"
    }
   },
   "outputs": [],
   "source": [
    "test_generator.show_predict_roi(file_idx=0,area_idx=[[0,200],[0,200]], colors='red',linewidths=0.5)"
   ]
  },
  {
   "cell_type": "code",
   "execution_count": null,
   "metadata": {
    "ExecuteTime": {
     "start_time": "2021-11-19T00:44:44.130Z"
    }
   },
   "outputs": [],
   "source": [
    "test_generator.show_predict_roi(file_idx=1,area_idx=None, colors='red',linewidths=0.5)"
   ]
  },
  {
   "cell_type": "code",
   "execution_count": null,
   "metadata": {
    "ExecuteTime": {
     "start_time": "2021-11-19T00:44:44.131Z"
    }
   },
   "outputs": [],
   "source": [
    "test_generator.show_predict_roi(file_idx=1,area_idx=[[600,800],[400,600]], colors='red',linewidths=0.5)"
   ]
  },
  {
   "cell_type": "code",
   "execution_count": null,
   "metadata": {
    "ExecuteTime": {
     "start_time": "2021-11-19T00:44:44.133Z"
    }
   },
   "outputs": [],
   "source": [
    "test_generator.show_predict_roi(file_idx=2,area_idx=None, colors='red',linewidths=0.5)"
   ]
  },
  {
   "cell_type": "code",
   "execution_count": null,
   "metadata": {
    "ExecuteTime": {
     "start_time": "2021-11-19T00:44:44.134Z"
    }
   },
   "outputs": [],
   "source": [
    "test_generator.show_predict_roi(file_idx=2,area_idx=[[600,800],[200,400]], colors='red',linewidths=0.5)"
   ]
  },
  {
   "cell_type": "code",
   "execution_count": null,
   "metadata": {
    "ExecuteTime": {
     "start_time": "2021-11-19T00:44:44.135Z"
    }
   },
   "outputs": [],
   "source": [
    "test_generator.show_predict_roi(file_idx=3,area_idx=None, colors='red',linewidths=0.5)"
   ]
  },
  {
   "cell_type": "code",
   "execution_count": null,
   "metadata": {
    "ExecuteTime": {
     "start_time": "2021-11-19T00:44:44.136Z"
    }
   },
   "outputs": [],
   "source": [
    "test_generator.show_predict_roi(file_idx=4,area_idx=None, colors='red',linewidths=0.5)"
   ]
  },
  {
   "cell_type": "code",
   "execution_count": null,
   "metadata": {
    "ExecuteTime": {
     "start_time": "2021-11-19T00:44:44.137Z"
    }
   },
   "outputs": [],
   "source": [
    "test_generator.show_predict_roi(file_idx=5,area_idx=None, colors='red',linewidths=0.5)"
   ]
  }
 ],
 "metadata": {
  "kernelspec": {
   "display_name": "Python 3 (ipykernel)",
   "language": "python",
   "name": "python3"
  },
  "language_info": {
   "codemirror_mode": {
    "name": "ipython",
    "version": 3
   },
   "file_extension": ".py",
   "mimetype": "text/x-python",
   "name": "python",
   "nbconvert_exporter": "python",
   "pygments_lexer": "ipython3",
   "version": "3.8.12"
  },
  "varInspector": {
   "cols": {
    "lenName": 16,
    "lenType": 16,
    "lenVar": 40
   },
   "kernels_config": {
    "python": {
     "delete_cmd_postfix": "",
     "delete_cmd_prefix": "del ",
     "library": "var_list.py",
     "varRefreshCmd": "print(var_dic_list())"
    },
    "r": {
     "delete_cmd_postfix": ") ",
     "delete_cmd_prefix": "rm(",
     "library": "var_list.r",
     "varRefreshCmd": "cat(var_dic_list()) "
    }
   },
   "types_to_exclude": [
    "module",
    "function",
    "builtin_function_or_method",
    "instance",
    "_Feature"
   ],
   "window_display": false
  },
  "widgets": {
   "state": {
    "03a1347efa0142498c8dd40e631aef81": {
     "views": [
      {
       "cell_index": 20
      }
     ]
    },
    "045ce54cc21047778fd5eee035e191b4": {
     "views": [
      {
       "cell_index": 20
      }
     ]
    },
    "05c6fb4cdf5f463b81065256c5ef9490": {
     "views": [
      {
       "cell_index": 20
      }
     ]
    },
    "32abaada40fc4d3f8ffd5a2e902ee8de": {
     "views": [
      {
       "cell_index": 20
      }
     ]
    },
    "575b668817b74563ad5d090eee9b351d": {
     "views": [
      {
       "cell_index": 20
      }
     ]
    },
    "b46e68e1fcc743c190e7bbf8ed1e8fb0": {
     "views": [
      {
       "cell_index": 20
      }
     ]
    },
    "b7132ba22d84477c9b3992db60b4e9ac": {
     "views": [
      {
       "cell_index": 20
      }
     ]
    },
    "ba03016fd895439686402d5f01dce2d2": {
     "views": [
      {
       "cell_index": 20
      }
     ]
    },
    "c1043d87371d4a71a482f5e1feaa46ef": {
     "views": [
      {
       "cell_index": 20
      }
     ]
    },
    "dd4bf9b5a4db4ba4b349f0841699178e": {
     "views": [
      {
       "cell_index": 20
      }
     ]
    }
   },
   "version": "1.2.0"
  }
 },
 "nbformat": 4,
 "nbformat_minor": 1
}
